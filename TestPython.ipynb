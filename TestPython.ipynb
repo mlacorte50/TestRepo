import math
import random

a = 9
b = 4
print(math.sqrt(9*4))

random.seed(512)
print(random.randint(1,7))