{
 "cells": [
  {
   "cell_type": "markdown",
   "id": "5aefe30a-e636-4b5f-909f-9f8efb780117",
   "metadata": {},
   "source": [
    "# Data Science Tools and Ecosystem"
   ]
  },
  {
   "cell_type": "markdown",
   "id": "d29bdb67-0ff3-4153-bf6e-ebf7506af447",
   "metadata": {},
   "source": [
    "In this notebook, Data Science Tools and Ecosystem are summarized."
   ]
  },
  {
   "cell_type": "markdown",
   "id": "5857b8af-4776-43bf-94d9-52230bf5a3f1",
   "metadata": {},
   "source": [
    "__Objectives:__\n",
    "\n",
    "- List some popular data science languages.\n",
    "- List some popular data science libraries.\n",
    "- List some popular data science tools (Open-source).\n",
    "- Demonstrate some arithmetic in Python.\n",
    "- Demonstrate some Markdown formatting."
   ]
  },
  {
   "cell_type": "markdown",
   "id": "110a13c0-183b-4132-a18f-729fc6c45e9b",
   "metadata": {},
   "source": [
    "Some of the most popular languages used by data scientists are the following:\n",
    "\n",
    "1.  Python\n",
    "2.  R\n",
    "3.  SQL\n",
    "4.  Java"
   ]
  },
  {
   "cell_type": "markdown",
   "id": "e8c66fd1-c43b-481e-836c-08d006d6ed92",
   "metadata": {},
   "source": [
    "Some of the libraries most commonly used by data scientists include the following:\n",
    "\n",
    "1. NumPy (Python)\n",
    "2. Pandas (Python)\n",
    "3. Matplotlib (Python)\n",
    "4. Seaborn (Python)\n",
    "5. Scikit-learn (Python)\n",
    "6. dyplyr (R)\n",
    "7. ggplot2 (R)\n",
    "8. tidyr (R)\n",
    "9. stringr (R)\n",
    "10. Shiny (R)\n",
    "11. caret (R) "
   ]
  },
  {
   "cell_type": "markdown",
   "id": "197b9299-3595-4287-9025-b27020abcafa",
   "metadata": {},
   "source": [
    "\n",
    "| Data Science Tools |\n",
    "|--------------------|\n",
    "| Jupyter Notebooks  |\n",
    "| RStudio            |\n",
    "| Apache Spark       |\n",
    "\n",
    "\n"
   ]
  },
  {
   "cell_type": "markdown",
   "id": "80ba5bf5-f5ae-4158-a23b-f101ab9e487f",
   "metadata": {},
   "source": [
    "### Below are a few examples of arithmetic expression evaluations in Python:"
   ]
  },
  {
   "cell_type": "code",
   "execution_count": 2,
   "id": "91cae1a7-1bd4-4a0a-bb39-f3216652411c",
   "metadata": {},
   "outputs": [
    {
     "data": {
      "text/plain": [
       "17"
      ]
     },
     "execution_count": 2,
     "metadata": {},
     "output_type": "execute_result"
    }
   ],
   "source": [
    "# This is a simple arithmetic problem to multiply and then add integers:\n",
    "(3*4)+5"
   ]
  },
  {
   "cell_type": "code",
   "execution_count": 3,
   "id": "e45cf532-8182-4478-b466-092055ed9992",
   "metadata": {},
   "outputs": [
    {
     "name": "stdout",
     "output_type": "stream",
     "text": [
      "3.3333333333333335\n"
     ]
    }
   ],
   "source": [
    "# This will convert 200 minutes to hours by dividing by 60:\n",
    "numMinutes = 200\n",
    "numHours = numMinutes/60\n",
    "print(numHours)"
   ]
  },
  {
   "cell_type": "markdown",
   "id": "819ec8b5-5843-46ed-8585-b46853fcb4bd",
   "metadata": {},
   "source": [
    "## Author\n",
    "Michael B. Lacorte"
   ]
  },
  {
   "cell_type": "code",
   "execution_count": null,
   "id": "2170b9b4-bc1b-476f-9693-64c7e1329f0e",
   "metadata": {},
   "outputs": [],
   "source": []
  }
 ],
 "metadata": {
  "kernelspec": {
   "display_name": "Python 3 (ipykernel)",
   "language": "python",
   "name": "python3"
  },
  "language_info": {
   "codemirror_mode": {
    "name": "ipython",
    "version": 3
   },
   "file_extension": ".py",
   "mimetype": "text/x-python",
   "name": "python",
   "nbconvert_exporter": "python",
   "pygments_lexer": "ipython3",
   "version": "3.13.5"
  }
 },
 "nbformat": 4,
 "nbformat_minor": 5
}
